{
  "cells": [
    {
      "cell_type": "markdown",
      "metadata": {
        "id": "DIRKgPYij_5H"
      },
      "source": [
        "# Step 1: Import Dependencies"
      ]
    },
    {
      "cell_type": "code",
      "execution_count": 1,
      "metadata": {
        "id": "NZ8d5Y2zj_5R"
      },
      "outputs": [],
      "source": [
        "import pandas as pd\n",
        "import matplotlib.pyplot as plt\n",
        "import numpy as np\n",
        "import seaborn as sns\n",
        "from sklearn.preprocessing import StandardScaler\n",
        "from scipy.stats import skew\n",
        "\n",
        "import warnings\n",
        "warnings.filterwarnings(\"ignore\")\n",
        "\n",
        "%matplotlib inline\n",
        "pd.set_option(\"display.max_columns\",None)"
      ]
    },
    {
      "cell_type": "markdown",
      "metadata": {
        "id": "-pCfw6rdj_5S"
      },
      "source": [
        "# Step 2: Import Data"
      ]
    },
    {
      "cell_type": "code",
      "execution_count": 2,
      "metadata": {
        "colab": {
          "base_uri": "https://localhost:8080/",
          "height": 270
        },
        "id": "sskvOFm9j_5S",
        "outputId": "7bbde2ba-7097-46a2-eecf-d3129303c99f"
      },
      "outputs": [
        {
          "output_type": "execute_result",
          "data": {
            "text/plain": [
              "   battery_power  clock_speed  fc  int_memory  m_dep  mobile_wt  n_cores  pc  \\\n",
              "0            842          2.2   1           7    0.6        188        2   2   \n",
              "1           1021          0.5   0          53    0.7        136        3   6   \n",
              "2            563          0.5   2          41    0.9        145        5   6   \n",
              "3            615          2.5   0          10    0.8        131        6   9   \n",
              "4           1821          1.2  13          44    0.6        141        2  14   \n",
              "\n",
              "   px_height  px_width   ram  sc_h  sc_w  talk_time  price_range  \n",
              "0         20       756  2549     9     7         19            1  \n",
              "1        905      1988  2631    17     3          7            2  \n",
              "2       1263      1716  2603    11     2          9            2  \n",
              "3       1216      1786  2769    16     8         11            2  \n",
              "4       1208      1212  1411     8     2         15            1  "
            ],
            "text/html": [
              "\n",
              "\n",
              "  <div id=\"df-84a37ca0-d2ac-4bf3-90f2-ed8d1f04ed13\">\n",
              "    <div class=\"colab-df-container\">\n",
              "      <div>\n",
              "<style scoped>\n",
              "    .dataframe tbody tr th:only-of-type {\n",
              "        vertical-align: middle;\n",
              "    }\n",
              "\n",
              "    .dataframe tbody tr th {\n",
              "        vertical-align: top;\n",
              "    }\n",
              "\n",
              "    .dataframe thead th {\n",
              "        text-align: right;\n",
              "    }\n",
              "</style>\n",
              "<table border=\"1\" class=\"dataframe\">\n",
              "  <thead>\n",
              "    <tr style=\"text-align: right;\">\n",
              "      <th></th>\n",
              "      <th>battery_power</th>\n",
              "      <th>clock_speed</th>\n",
              "      <th>fc</th>\n",
              "      <th>int_memory</th>\n",
              "      <th>m_dep</th>\n",
              "      <th>mobile_wt</th>\n",
              "      <th>n_cores</th>\n",
              "      <th>pc</th>\n",
              "      <th>px_height</th>\n",
              "      <th>px_width</th>\n",
              "      <th>ram</th>\n",
              "      <th>sc_h</th>\n",
              "      <th>sc_w</th>\n",
              "      <th>talk_time</th>\n",
              "      <th>price_range</th>\n",
              "    </tr>\n",
              "  </thead>\n",
              "  <tbody>\n",
              "    <tr>\n",
              "      <th>0</th>\n",
              "      <td>842</td>\n",
              "      <td>2.2</td>\n",
              "      <td>1</td>\n",
              "      <td>7</td>\n",
              "      <td>0.6</td>\n",
              "      <td>188</td>\n",
              "      <td>2</td>\n",
              "      <td>2</td>\n",
              "      <td>20</td>\n",
              "      <td>756</td>\n",
              "      <td>2549</td>\n",
              "      <td>9</td>\n",
              "      <td>7</td>\n",
              "      <td>19</td>\n",
              "      <td>1</td>\n",
              "    </tr>\n",
              "    <tr>\n",
              "      <th>1</th>\n",
              "      <td>1021</td>\n",
              "      <td>0.5</td>\n",
              "      <td>0</td>\n",
              "      <td>53</td>\n",
              "      <td>0.7</td>\n",
              "      <td>136</td>\n",
              "      <td>3</td>\n",
              "      <td>6</td>\n",
              "      <td>905</td>\n",
              "      <td>1988</td>\n",
              "      <td>2631</td>\n",
              "      <td>17</td>\n",
              "      <td>3</td>\n",
              "      <td>7</td>\n",
              "      <td>2</td>\n",
              "    </tr>\n",
              "    <tr>\n",
              "      <th>2</th>\n",
              "      <td>563</td>\n",
              "      <td>0.5</td>\n",
              "      <td>2</td>\n",
              "      <td>41</td>\n",
              "      <td>0.9</td>\n",
              "      <td>145</td>\n",
              "      <td>5</td>\n",
              "      <td>6</td>\n",
              "      <td>1263</td>\n",
              "      <td>1716</td>\n",
              "      <td>2603</td>\n",
              "      <td>11</td>\n",
              "      <td>2</td>\n",
              "      <td>9</td>\n",
              "      <td>2</td>\n",
              "    </tr>\n",
              "    <tr>\n",
              "      <th>3</th>\n",
              "      <td>615</td>\n",
              "      <td>2.5</td>\n",
              "      <td>0</td>\n",
              "      <td>10</td>\n",
              "      <td>0.8</td>\n",
              "      <td>131</td>\n",
              "      <td>6</td>\n",
              "      <td>9</td>\n",
              "      <td>1216</td>\n",
              "      <td>1786</td>\n",
              "      <td>2769</td>\n",
              "      <td>16</td>\n",
              "      <td>8</td>\n",
              "      <td>11</td>\n",
              "      <td>2</td>\n",
              "    </tr>\n",
              "    <tr>\n",
              "      <th>4</th>\n",
              "      <td>1821</td>\n",
              "      <td>1.2</td>\n",
              "      <td>13</td>\n",
              "      <td>44</td>\n",
              "      <td>0.6</td>\n",
              "      <td>141</td>\n",
              "      <td>2</td>\n",
              "      <td>14</td>\n",
              "      <td>1208</td>\n",
              "      <td>1212</td>\n",
              "      <td>1411</td>\n",
              "      <td>8</td>\n",
              "      <td>2</td>\n",
              "      <td>15</td>\n",
              "      <td>1</td>\n",
              "    </tr>\n",
              "  </tbody>\n",
              "</table>\n",
              "</div>\n",
              "      <button class=\"colab-df-convert\" onclick=\"convertToInteractive('df-84a37ca0-d2ac-4bf3-90f2-ed8d1f04ed13')\"\n",
              "              title=\"Convert this dataframe to an interactive table.\"\n",
              "              style=\"display:none;\">\n",
              "\n",
              "  <svg xmlns=\"http://www.w3.org/2000/svg\" height=\"24px\"viewBox=\"0 0 24 24\"\n",
              "       width=\"24px\">\n",
              "    <path d=\"M0 0h24v24H0V0z\" fill=\"none\"/>\n",
              "    <path d=\"M18.56 5.44l.94 2.06.94-2.06 2.06-.94-2.06-.94-.94-2.06-.94 2.06-2.06.94zm-11 1L8.5 8.5l.94-2.06 2.06-.94-2.06-.94L8.5 2.5l-.94 2.06-2.06.94zm10 10l.94 2.06.94-2.06 2.06-.94-2.06-.94-.94-2.06-.94 2.06-2.06.94z\"/><path d=\"M17.41 7.96l-1.37-1.37c-.4-.4-.92-.59-1.43-.59-.52 0-1.04.2-1.43.59L10.3 9.45l-7.72 7.72c-.78.78-.78 2.05 0 2.83L4 21.41c.39.39.9.59 1.41.59.51 0 1.02-.2 1.41-.59l7.78-7.78 2.81-2.81c.8-.78.8-2.07 0-2.86zM5.41 20L4 18.59l7.72-7.72 1.47 1.35L5.41 20z\"/>\n",
              "  </svg>\n",
              "      </button>\n",
              "\n",
              "\n",
              "\n",
              "    <div id=\"df-2e9df6ef-3ce2-416d-b053-25837b13c74f\">\n",
              "      <button class=\"colab-df-quickchart\" onclick=\"quickchart('df-2e9df6ef-3ce2-416d-b053-25837b13c74f')\"\n",
              "              title=\"Suggest charts.\"\n",
              "              style=\"display:none;\">\n",
              "\n",
              "<svg xmlns=\"http://www.w3.org/2000/svg\" height=\"24px\"viewBox=\"0 0 24 24\"\n",
              "     width=\"24px\">\n",
              "    <g>\n",
              "        <path d=\"M19 3H5c-1.1 0-2 .9-2 2v14c0 1.1.9 2 2 2h14c1.1 0 2-.9 2-2V5c0-1.1-.9-2-2-2zM9 17H7v-7h2v7zm4 0h-2V7h2v10zm4 0h-2v-4h2v4z\"/>\n",
              "    </g>\n",
              "</svg>\n",
              "      </button>\n",
              "    </div>\n",
              "\n",
              "<style>\n",
              "  .colab-df-quickchart {\n",
              "    background-color: #E8F0FE;\n",
              "    border: none;\n",
              "    border-radius: 50%;\n",
              "    cursor: pointer;\n",
              "    display: none;\n",
              "    fill: #1967D2;\n",
              "    height: 32px;\n",
              "    padding: 0 0 0 0;\n",
              "    width: 32px;\n",
              "  }\n",
              "\n",
              "  .colab-df-quickchart:hover {\n",
              "    background-color: #E2EBFA;\n",
              "    box-shadow: 0px 1px 2px rgba(60, 64, 67, 0.3), 0px 1px 3px 1px rgba(60, 64, 67, 0.15);\n",
              "    fill: #174EA6;\n",
              "  }\n",
              "\n",
              "  [theme=dark] .colab-df-quickchart {\n",
              "    background-color: #3B4455;\n",
              "    fill: #D2E3FC;\n",
              "  }\n",
              "\n",
              "  [theme=dark] .colab-df-quickchart:hover {\n",
              "    background-color: #434B5C;\n",
              "    box-shadow: 0px 1px 3px 1px rgba(0, 0, 0, 0.15);\n",
              "    filter: drop-shadow(0px 1px 2px rgba(0, 0, 0, 0.3));\n",
              "    fill: #FFFFFF;\n",
              "  }\n",
              "</style>\n",
              "\n",
              "    <script>\n",
              "      async function quickchart(key) {\n",
              "        const containerElement = document.querySelector('#' + key);\n",
              "        const charts = await google.colab.kernel.invokeFunction(\n",
              "            'suggestCharts', [key], {});\n",
              "      }\n",
              "    </script>\n",
              "\n",
              "      <script>\n",
              "\n",
              "function displayQuickchartButton(domScope) {\n",
              "  let quickchartButtonEl =\n",
              "    domScope.querySelector('#df-2e9df6ef-3ce2-416d-b053-25837b13c74f button.colab-df-quickchart');\n",
              "  quickchartButtonEl.style.display =\n",
              "    google.colab.kernel.accessAllowed ? 'block' : 'none';\n",
              "}\n",
              "\n",
              "        displayQuickchartButton(document);\n",
              "      </script>\n",
              "      <style>\n",
              "    .colab-df-container {\n",
              "      display:flex;\n",
              "      flex-wrap:wrap;\n",
              "      gap: 12px;\n",
              "    }\n",
              "\n",
              "    .colab-df-convert {\n",
              "      background-color: #E8F0FE;\n",
              "      border: none;\n",
              "      border-radius: 50%;\n",
              "      cursor: pointer;\n",
              "      display: none;\n",
              "      fill: #1967D2;\n",
              "      height: 32px;\n",
              "      padding: 0 0 0 0;\n",
              "      width: 32px;\n",
              "    }\n",
              "\n",
              "    .colab-df-convert:hover {\n",
              "      background-color: #E2EBFA;\n",
              "      box-shadow: 0px 1px 2px rgba(60, 64, 67, 0.3), 0px 1px 3px 1px rgba(60, 64, 67, 0.15);\n",
              "      fill: #174EA6;\n",
              "    }\n",
              "\n",
              "    [theme=dark] .colab-df-convert {\n",
              "      background-color: #3B4455;\n",
              "      fill: #D2E3FC;\n",
              "    }\n",
              "\n",
              "    [theme=dark] .colab-df-convert:hover {\n",
              "      background-color: #434B5C;\n",
              "      box-shadow: 0px 1px 3px 1px rgba(0, 0, 0, 0.15);\n",
              "      filter: drop-shadow(0px 1px 2px rgba(0, 0, 0, 0.3));\n",
              "      fill: #FFFFFF;\n",
              "    }\n",
              "  </style>\n",
              "\n",
              "      <script>\n",
              "        const buttonEl =\n",
              "          document.querySelector('#df-84a37ca0-d2ac-4bf3-90f2-ed8d1f04ed13 button.colab-df-convert');\n",
              "        buttonEl.style.display =\n",
              "          google.colab.kernel.accessAllowed ? 'block' : 'none';\n",
              "\n",
              "        async function convertToInteractive(key) {\n",
              "          const element = document.querySelector('#df-84a37ca0-d2ac-4bf3-90f2-ed8d1f04ed13');\n",
              "          const dataTable =\n",
              "            await google.colab.kernel.invokeFunction('convertToInteractive',\n",
              "                                                     [key], {});\n",
              "          if (!dataTable) return;\n",
              "\n",
              "          const docLinkHtml = 'Like what you see? Visit the ' +\n",
              "            '<a target=\"_blank\" href=https://colab.research.google.com/notebooks/data_table.ipynb>data table notebook</a>'\n",
              "            + ' to learn more about interactive tables.';\n",
              "          element.innerHTML = '';\n",
              "          dataTable['output_type'] = 'display_data';\n",
              "          await google.colab.output.renderOutput(dataTable, element);\n",
              "          const docLink = document.createElement('div');\n",
              "          docLink.innerHTML = docLinkHtml;\n",
              "          element.appendChild(docLink);\n",
              "        }\n",
              "      </script>\n",
              "    </div>\n",
              "  </div>\n"
            ]
          },
          "metadata": {},
          "execution_count": 2
        }
      ],
      "source": [
        "df = pd.read_csv('Mobile_data.csv',\n",
        "                          header=0)\n",
        "df.head()"
      ]
    },
    {
      "cell_type": "code",
      "execution_count": 3,
      "metadata": {
        "colab": {
          "base_uri": "https://localhost:8080/"
        },
        "id": "hFjXLsFQj_5T",
        "outputId": "08e1e620-6095-4199-9666-e90cfc478082"
      },
      "outputs": [
        {
          "output_type": "execute_result",
          "data": {
            "text/plain": [
              "battery_power      int64\n",
              "clock_speed      float64\n",
              "fc                 int64\n",
              "int_memory         int64\n",
              "m_dep            float64\n",
              "mobile_wt          int64\n",
              "n_cores            int64\n",
              "pc                 int64\n",
              "px_height          int64\n",
              "px_width           int64\n",
              "ram                int64\n",
              "sc_h               int64\n",
              "sc_w               int64\n",
              "talk_time          int64\n",
              "price_range        int64\n",
              "dtype: object"
            ]
          },
          "metadata": {},
          "execution_count": 3
        }
      ],
      "source": [
        "df.dtypes"
      ]
    },
    {
      "cell_type": "markdown",
      "metadata": {
        "id": "y_9cWIGHj_5U"
      },
      "source": [
        "# Step 3: EDA"
      ]
    },
    {
      "cell_type": "code",
      "execution_count": 4,
      "metadata": {
        "colab": {
          "base_uri": "https://localhost:8080/",
          "height": 472
        },
        "id": "IKwdFZZRj_5U",
        "outputId": "503e4bb4-da61-4d49-85d0-be79f0130c73"
      },
      "outputs": [
        {
          "output_type": "display_data",
          "data": {
            "text/plain": [
              "<Figure size 640x480 with 2 Axes>"
            ],
            "image/png": "[encoded data removed]"
          },
          "metadata": {}
        }
      ],
      "source": [
        "plt.scatter(df['sc_w'], df['sc_h'], c=df['price_range'], cmap='viridis')\n",
        "\n",
        "# Add labels and title\n",
        "plt.xlabel('Screen Width (cm)')\n",
        "plt.ylabel('Screen Height (cm)')\n",
        "plt.title('Mobile Cost Category')\n",
        "\n",
        "# Add a colorbar legend for the cost category\n",
        "cbar = plt.colorbar()\n",
        "cbar.set_label('Cost Category')\n",
        "\n",
        "# Display the plot\n",
        "plt.show()"
      ]
    },
    {
      "cell_type": "code",
      "execution_count": 5,
      "metadata": {
        "colab": {
          "base_uri": "https://localhost:8080/",
          "height": 472
        },
        "id": "Pjcv6iGKj_5U",
        "outputId": "9e1bc6f7-e461-49b0-c626-667088a60601"
      },
      "outputs": [
        {
          "output_type": "display_data",
          "data": {
            "text/plain": [
              "<Figure size 640x480 with 1 Axes>"
            ],
            "image/png": "[encoded data removed]"
          },
          "metadata": {}
        }
      ],
      "source": [
        "plt.scatter(df['battery_power'], df['talk_time'])\n",
        "\n",
        "# Add labels and title\n",
        "plt.xlabel('Total Energy (mAh)')\n",
        "plt.ylabel('Battery Life (hours)')\n",
        "plt.title('Battery Life vs Total Energy')\n",
        "\n",
        "# Display the plot\n",
        "plt.show()"
      ]
    },
    {
      "cell_type": "code",
      "execution_count": 6,
      "metadata": {
        "colab": {
          "base_uri": "https://localhost:8080/",
          "height": 467
        },
        "id": "haIDDJS6j_5V",
        "outputId": "a3457959-6e99-481e-c154-50787c397c77"
      },
      "outputs": [
        {
          "output_type": "display_data",
          "data": {
            "text/plain": [
              "<Figure size 640x480 with 1 Axes>"
            ],
            "image/png": "[encoded data removed]"
          },
          "metadata": {}
        }
      ],
      "source": [
        "# Grouped bar plot\n",
        "df_grouped = df.groupby('price_range').mean()[['int_memory', 'ram']]\n",
        "df_grouped.plot(kind='bar')\n",
        "\n",
        "# Add labels and title\n",
        "plt.xlabel('Cost Category')\n",
        "plt.ylabel('Average Value')\n",
        "plt.title('Average Internal Memory and RAM by Cost Category')\n",
        "\n",
        "# Display the plot\n",
        "plt.show()"
      ]
    },
    {
      "cell_type": "code",
      "execution_count": 7,
      "metadata": {
        "colab": {
          "base_uri": "https://localhost:8080/",
          "height": 472
        },
        "id": "UcVnZ4C1j_5W",
        "outputId": "66a8befa-8b5d-4d1b-cece-5a71a83ff1ab"
      },
      "outputs": [
        {
          "output_type": "display_data",
          "data": {
            "text/plain": [
              "<Figure size 640x480 with 1 Axes>"
            ],
            "image/png": "[encoded data removed]"
          },
          "metadata": {}
        }
      ],
      "source": [
        "plt.scatter(df['clock_speed'], df['n_cores'])\n",
        "\n",
        "# Add labels and title\n",
        "plt.xlabel('Clock Speed')\n",
        "plt.ylabel('Number of Cores')\n",
        "plt.title('Processor Characteristics')\n",
        "\n",
        "# Display the plot\n",
        "plt.show()"
      ]
    },
    {
      "cell_type": "markdown",
      "metadata": {
        "id": "ChHhrlS2j_5W"
      },
      "source": [
        "# Step 4 -DATA Preprocessing"
      ]
    },
    {
      "cell_type": "code",
      "execution_count": 8,
      "metadata": {
        "id": "k362P6QOj_5W"
      },
      "outputs": [],
      "source": [
        "df_rev = pd.DataFrame.copy(df)"
      ]
    },
    {
      "cell_type": "code",
      "execution_count": 9,
      "metadata": {
        "colab": {
          "base_uri": "https://localhost:8080/"
        },
        "id": "EUkneZmZj_5W",
        "outputId": "84477a38-6a3c-462f-e597-3ccdfe3c74bb"
      },
      "outputs": [
        {
          "output_type": "execute_result",
          "data": {
            "text/plain": [
              "(2000, 15)"
            ]
          },
          "metadata": {},
          "execution_count": 9
        }
      ],
      "source": [
        "df_rev.shape"
      ]
    },
    {
      "cell_type": "markdown",
      "metadata": {
        "id": "YMbbxQrPj_5X"
      },
      "source": [
        "# Checking missing values"
      ]
    },
    {
      "cell_type": "code",
      "execution_count": 10,
      "metadata": {
        "id": "gAg4sLj1j_5X"
      },
      "outputs": [],
      "source": [
        "def check_missing_values(data): # there is a missing values\n",
        "    \"\"\"\n",
        "    Objective: Check missing values count and percentage in all columns\n",
        "\n",
        "    data: input data frame\n",
        "    return: Missing Values data Frame\n",
        "\n",
        "    \"\"\"\n",
        "    total = data.isnull().sum().sort_values(ascending=False)\n",
        "    per = (data.isnull().sum()/data.isnull().count() * 100).sort_values(ascending=False)\n",
        "    missing_data = pd.concat([total,per],axis=1,keys=['Total','Percent'])\n",
        "    return missing_data"
      ]
    },
    {
      "cell_type": "code",
      "execution_count": 11,
      "metadata": {
        "colab": {
          "base_uri": "https://localhost:8080/",
          "height": 519
        },
        "id": "4FVGtA5vj_5X",
        "outputId": "54c229b5-16e0-4812-de06-68ec9833e8d1"
      },
      "outputs": [
        {
          "output_type": "execute_result",
          "data": {
            "text/plain": [
              "               Total  Percent\n",
              "battery_power      0      0.0\n",
              "clock_speed        0      0.0\n",
              "fc                 0      0.0\n",
              "int_memory         0      0.0\n",
              "m_dep              0      0.0\n",
              "mobile_wt          0      0.0\n",
              "n_cores            0      0.0\n",
              "pc                 0      0.0\n",
              "px_height          0      0.0\n",
              "px_width           0      0.0\n",
              "ram                0      0.0\n",
              "sc_h               0      0.0\n",
              "sc_w               0      0.0\n",
              "talk_time          0      0.0\n",
              "price_range        0      0.0"
            ],
            "text/html": [
              "\n",
              "\n",
              "  <div id=\"df-39833e04-f83e-4979-92f3-3218151266d7\">\n",
              "    <div class=\"colab-df-container\">\n",
              "      <div>\n",
              "<style scoped>\n",
              "    .dataframe tbody tr th:only-of-type {\n",
              "        vertical-align: middle;\n",
              "    }\n",
              "\n",
              "    .dataframe tbody tr th {\n",
              "        vertical-align: top;\n",
              "    }\n",
              "\n",
              "    .dataframe thead th {\n",
              "        text-align: right;\n",
              "    }\n",
              "</style>\n",
              "<table border=\"1\" class=\"dataframe\">\n",
              "  <thead>\n",
              "    <tr style=\"text-align: right;\">\n",
              "      <th></th>\n",
              "      <th>Total</th>\n",
              "      <th>Percent</th>\n",
              "    </tr>\n",
              "  </thead>\n",
              "  <tbody>\n",
              "    <tr>\n",
              "      <th>battery_power</th>\n",
              "      <td>0</td>\n",
              "      <td>0.0</td>\n",
              "    </tr>\n",
              "    <tr>\n",
              "      <th>clock_speed</th>\n",
              "      <td>0</td>\n",
              "      <td>0.0</td>\n",
              "    </tr>\n",
              "    <tr>\n",
              "      <th>fc</th>\n",
              "      <td>0</td>\n",
              "      <td>0.0</td>\n",
              "    </tr>\n",
              "    <tr>\n",
              "      <th>int_memory</th>\n",
              "      <td>0</td>\n",
              "      <td>0.0</td>\n",
              "    </tr>\n",
              "    <tr>\n",
              "      <th>m_dep</th>\n",
              "      <td>0</td>\n",
              "      <td>0.0</td>\n",
              "    </tr>\n",
              "    <tr>\n",
              "      <th>mobile_wt</th>\n",
              "      <td>0</td>\n",
              "      <td>0.0</td>\n",
              "    </tr>\n",
              "    <tr>\n",
              "      <th>n_cores</th>\n",
              "      <td>0</td>\n",
              "      <td>0.0</td>\n",
              "    </tr>\n",
              "    <tr>\n",
              "      <th>pc</th>\n",
              "      <td>0</td>\n",
              "      <td>0.0</td>\n",
              "    </tr>\n",
              "    <tr>\n",
              "      <th>px_height</th>\n",
              "      <td>0</td>\n",
              "      <td>0.0</td>\n",
              "    </tr>\n",
              "    <tr>\n",
              "      <th>px_width</th>\n",
              "      <td>0</td>\n",
              "      <td>0.0</td>\n",
              "    </tr>\n",
              "    <tr>\n",
              "      <th>ram</th>\n",
              "      <td>0</td>\n",
              "      <td>0.0</td>\n",
              "    </tr>\n",
              "    <tr>\n",
              "      <th>sc_h</th>\n",
              "      <td>0</td>\n",
              "      <td>0.0</td>\n",
              "    </tr>\n",
              "    <tr>\n",
              "      <th>sc_w</th>\n",
              "      <td>0</td>\n",
              "      <td>0.0</td>\n",
              "    </tr>\n",
              "    <tr>\n",
              "      <th>talk_time</th>\n",
              "      <td>0</td>\n",
              "      <td>0.0</td>\n",
              "    </tr>\n",
              "    <tr>\n",
              "      <th>price_range</th>\n",
              "      <td>0</td>\n",
              "      <td>0.0</td>\n",
              "    </tr>\n",
              "  </tbody>\n",
              "</table>\n",
              "</div>\n",
              "      <button class=\"colab-df-convert\" onclick=\"convertToInteractive('df-39833e04-f83e-4979-92f3-3218151266d7')\"\n",
              "              title=\"Convert this dataframe to an interactive table.\"\n",
              "              style=\"display:none;\">\n",
              "\n",
              "  <svg xmlns=\"http://www.w3.org/2000/svg\" height=\"24px\"viewBox=\"0 0 24 24\"\n",
              "       width=\"24px\">\n",
              "    <path d=\"M0 0h24v24H0V0z\" fill=\"none\"/>\n",
              "    <path d=\"M18.56 5.44l.94 2.06.94-2.06 2.06-.94-2.06-.94-.94-2.06-.94 2.06-2.06.94zm-11 1L8.5 8.5l.94-2.06 2.06-.94-2.06-.94L8.5 2.5l-.94 2.06-2.06.94zm10 10l.94 2.06.94-2.06 2.06-.94-2.06-.94-.94-2.06-.94 2.06-2.06.94z\"/><path d=\"M17.41 7.96l-1.37-1.37c-.4-.4-.92-.59-1.43-.59-.52 0-1.04.2-1.43.59L10.3 9.45l-7.72 7.72c-.78.78-.78 2.05 0 2.83L4 21.41c.39.39.9.59 1.41.59.51 0 1.02-.2 1.41-.59l7.78-7.78 2.81-2.81c.8-.78.8-2.07 0-2.86zM5.41 20L4 18.59l7.72-7.72 1.47 1.35L5.41 20z\"/>\n",
              "  </svg>\n",
              "      </button>\n",
              "\n",
              "\n",
              "\n",
              "    <div id=\"df-7a39cb6b-05d9-49c4-89ee-7a84f125b2e6\">\n",
              "      <button class=\"colab-df-quickchart\" onclick=\"quickchart('df-7a39cb6b-05d9-49c4-89ee-7a84f125b2e6')\"\n",
              "              title=\"Suggest charts.\"\n",
              "              style=\"display:none;\">\n",
              "\n",
              "<svg xmlns=\"http://www.w3.org/2000/svg\" height=\"24px\"viewBox=\"0 0 24 24\"\n",
              "     width=\"24px\">\n",
              "    <g>\n",
              "        <path d=\"M19 3H5c-1.1 0-2 .9-2 2v14c0 1.1.9 2 2 2h14c1.1 0 2-.9 2-2V5c0-1.1-.9-2-2-2zM9 17H7v-7h2v7zm4 0h-2V7h2v10zm4 0h-2v-4h2v4z\"/>\n",
              "    </g>\n",
              "</svg>\n",
              "      </button>\n",
              "    </div>\n",
              "\n",
              "<style>\n",
              "  .colab-df-quickchart {\n",
              "    background-color: #E8F0FE;\n",
              "    border: none;\n",
              "    border-radius: 50%;\n",
              "    cursor: pointer;\n",
              "    display: none;\n",
              "    fill: #1967D2;\n",
              "    height: 32px;\n",
              "    padding: 0 0 0 0;\n",
              "    width: 32px;\n",
              "  }\n",
              "\n",
              "  .colab-df-quickchart:hover {\n",
              "    background-color: #E2EBFA;\n",
              "    box-shadow: 0px 1px 2px rgba(60, 64, 67, 0.3), 0px 1px 3px 1px rgba(60, 64, 67, 0.15);\n",
              "    fill: #174EA6;\n",
              "  }\n",
              "\n",
              "  [theme=dark] .colab-df-quickchart {\n",
              "    background-color: #3B4455;\n",
              "    fill: #D2E3FC;\n",
              "  }\n",
              "\n",
              "  [theme=dark] .colab-df-quickchart:hover {\n",
              "    background-color: #434B5C;\n",
              "    box-shadow: 0px 1px 3px 1px rgba(0, 0, 0, 0.15);\n",
              "    filter: drop-shadow(0px 1px 2px rgba(0, 0, 0, 0.3));\n",
              "    fill: #FFFFFF;\n",
              "  }\n",
              "</style>\n",
              "\n",
              "    <script>\n",
              "      async function quickchart(key) {\n",
              "        const containerElement = document.querySelector('#' + key);\n",
              "        const charts = await google.colab.kernel.invokeFunction(\n",
              "            'suggestCharts', [key], {});\n",
              "      }\n",
              "    </script>\n",
              "\n",
              "      <script>\n",
              "\n",
              "function displayQuickchartButton(domScope) {\n",
              "  let quickchartButtonEl =\n",
              "    domScope.querySelector('#df-7a39cb6b-05d9-49c4-89ee-7a84f125b2e6 button.colab-df-quickchart');\n",
              "  quickchartButtonEl.style.display =\n",
              "    google.colab.kernel.accessAllowed ? 'block' : 'none';\n",
              "}\n",
              "\n",
              "        displayQuickchartButton(document);\n",
              "      </script>\n",
              "      <style>\n",
              "    .colab-df-container {\n",
              "      display:flex;\n",
              "      flex-wrap:wrap;\n",
              "      gap: 12px;\n",
              "    }\n",
              "\n",
              "    .colab-df-convert {\n",
              "      background-color: #E8F0FE;\n",
              "      border: none;\n",
              "      border-radius: 50%;\n",
              "      cursor: pointer;\n",
              "      display: none;\n",
              "      fill: #1967D2;\n",
              "      height: 32px;\n",
              "      padding: 0 0 0 0;\n",
              "      width: 32px;\n",
              "    }\n",
              "\n",
              "    .colab-df-convert:hover {\n",
              "      background-color: #E2EBFA;\n",
              "      box-shadow: 0px 1px 2px rgba(60, 64, 67, 0.3), 0px 1px 3px 1px rgba(60, 64, 67, 0.15);\n",
              "      fill: #174EA6;\n",
              "    }\n",
              "\n",
              "    [theme=dark] .colab-df-convert {\n",
              "      background-color: #3B4455;\n",
              "      fill: #D2E3FC;\n",
              "    }\n",
              "\n",
              "    [theme=dark] .colab-df-convert:hover {\n",
              "      background-color: #434B5C;\n",
              "      box-shadow: 0px 1px 3px 1px rgba(0, 0, 0, 0.15);\n",
              "      filter: drop-shadow(0px 1px 2px rgba(0, 0, 0, 0.3));\n",
              "      fill: #FFFFFF;\n",
              "    }\n",
              "  </style>\n",
              "\n",
              "      <script>\n",
              "        const buttonEl =\n",
              "          document.querySelector('#df-39833e04-f83e-4979-92f3-3218151266d7 button.colab-df-convert');\n",
              "        buttonEl.style.display =\n",
              "          google.colab.kernel.accessAllowed ? 'block' : 'none';\n",
              "\n",
              "        async function convertToInteractive(key) {\n",
              "          const element = document.querySelector('#df-39833e04-f83e-4979-92f3-3218151266d7');\n",
              "          const dataTable =\n",
              "            await google.colab.kernel.invokeFunction('convertToInteractive',\n",
              "                                                     [key], {});\n",
              "          if (!dataTable) return;\n",
              "\n",
              "          const docLinkHtml = 'Like what you see? Visit the ' +\n",
              "            '<a target=\"_blank\" href=https://colab.research.google.com/notebooks/data_table.ipynb>data table notebook</a>'\n",
              "            + ' to learn more about interactive tables.';\n",
              "          element.innerHTML = '';\n",
              "          dataTable['output_type'] = 'display_data';\n",
              "          await google.colab.output.renderOutput(dataTable, element);\n",
              "          const docLink = document.createElement('div');\n",
              "          docLink.innerHTML = docLinkHtml;\n",
              "          element.appendChild(docLink);\n",
              "        }\n",
              "      </script>\n",
              "    </div>\n",
              "  </div>\n"
            ]
          },
          "metadata": {},
          "execution_count": 11
        }
      ],
      "source": [
        "check_missing_values(df_rev)"
      ]
    },
    {
      "cell_type": "code",
      "execution_count": 13,
      "metadata": {
        "colab": {
          "base_uri": "https://localhost:8080/"
        },
        "id": "yLQYtuwuj_5X",
        "outputId": "1e7b88b7-22fe-41f7-f648-76cb2b7663b2"
      },
      "outputs": [
        {
          "output_type": "execute_result",
          "data": {
            "text/plain": [
              "Index(['battery_power', 'clock_speed', 'fc', 'int_memory', 'm_dep',\n",
              "       'mobile_wt', 'n_cores', 'pc', 'px_height', 'px_width', 'ram', 'sc_h',\n",
              "       'sc_w', 'talk_time', 'price_range'],\n",
              "      dtype='object')"
            ]
          },
          "metadata": {},
          "execution_count": 13
        }
      ],
      "source": [
        "df_rev.columns"
      ]
    },
    {
      "cell_type": "code",
      "execution_count": 14,
      "metadata": {
        "id": "MdI74Hopj_5Y"
      },
      "outputs": [],
      "source": [
        "X = df[['battery_power','clock_speed', 'int_memory','n_cores','ram','talk_time']]\n",
        "y = df['price_range']"
      ]
    },
    {
      "cell_type": "code",
      "execution_count": 15,
      "metadata": {
        "id": "i_p8qAbfj_5Y"
      },
      "outputs": [],
      "source": [
        "from sklearn.model_selection import train_test_split\n",
        "\n",
        "X_train,X_test,y_train,y_test = train_test_split(X, y, test_size = 0.3,\n",
        "                                                random_state = 10)"
      ]
    },
    {
      "cell_type": "code",
      "execution_count": 16,
      "metadata": {
        "id": "JjCO-ATbj_5Y"
      },
      "outputs": [],
      "source": [
        "#predicting using the KNeighbors_Regressor\n",
        "\n",
        "from sklearn.neighbors import KNeighborsRegressor\n",
        "\n",
        "model_KNN = KNeighborsRegressor(n_neighbors = 3, metric=\"euclidean\")\n",
        "\n",
        "#fit the model on the data and predict the values\n",
        "\n",
        "model_KNN.fit(X_train, y_train)\n",
        "y_pred = model_KNN.predict(X_test)"
      ]
    },
    {
      "cell_type": "code",
      "execution_count": 17,
      "metadata": {
        "colab": {
          "base_uri": "https://localhost:8080/"
        },
        "id": "LQndU2-pj_5Y",
        "outputId": "2363a6ba-9e9b-4657-cbcd-433649a3a3e3"
      },
      "outputs": [
        {
          "output_type": "execute_result",
          "data": {
            "text/plain": [
              "array([3.        , 2.33333333, 1.        , 3.        , 1.        ,\n",
              "       3.        , 3.        , 3.        , 1.33333333, 3.        ,\n",
              "       2.33333333, 3.        , 0.        , 1.33333333, 0.        ,\n",
              "       3.        , 1.33333333, 3.        , 2.33333333, 2.33333333,\n",
              "       3.        , 2.33333333, 0.        , 1.        , 0.        ,\n",
              "       0.        , 2.33333333, 3.        , 1.33333333, 0.        ,\n",
              "       2.        , 0.        , 3.        , 2.66666667, 2.        ,\n",
              "       2.        , 1.        , 1.        , 2.66666667, 0.        ,\n",
              "       3.        , 2.        , 2.        , 0.        , 0.        ,\n",
              "       3.        , 1.33333333, 0.33333333, 1.        , 2.        ,\n",
              "       1.        , 2.66666667, 2.33333333, 2.        , 3.        ,\n",
              "       3.        , 2.33333333, 3.        , 1.        , 0.        ,\n",
              "       1.33333333, 1.66666667, 0.        , 0.        , 3.        ,\n",
              "       0.        , 1.        , 0.        , 2.        , 2.66666667,\n",
              "       3.        , 1.66666667, 0.        , 1.        , 3.        ,\n",
              "       1.33333333, 3.        , 3.        , 2.        , 1.66666667,\n",
              "       3.        , 0.        , 1.        , 0.        , 0.66666667,\n",
              "       3.        , 1.        , 2.66666667, 3.        , 2.66666667,\n",
              "       1.33333333, 3.        , 3.        , 3.        , 3.        ,\n",
              "       1.66666667, 0.66666667, 1.        , 0.66666667, 1.        ,\n",
              "       3.        , 0.        , 1.        , 1.66666667, 1.33333333,\n",
              "       3.        , 1.66666667, 0.66666667, 2.33333333, 1.66666667,\n",
              "       1.66666667, 0.        , 2.66666667, 1.33333333, 1.33333333,\n",
              "       1.33333333, 1.33333333, 1.33333333, 3.        , 0.        ,\n",
              "       1.        , 0.66666667, 3.        , 2.        , 1.        ,\n",
              "       3.        , 1.        , 3.        , 1.33333333, 0.        ,\n",
              "       3.        , 3.        , 3.        , 1.33333333, 2.33333333,\n",
              "       0.        , 0.        , 2.66666667, 2.66666667, 1.33333333,\n",
              "       3.        , 0.        , 3.        , 2.        , 0.        ,\n",
              "       3.        , 2.33333333, 1.        , 2.        , 0.        ,\n",
              "       1.        , 0.        , 0.        , 1.33333333, 0.33333333,\n",
              "       1.        , 0.        , 0.        , 3.        , 0.        ,\n",
              "       0.66666667, 1.33333333, 3.        , 2.66666667, 1.66666667,\n",
              "       1.33333333, 0.33333333, 1.66666667, 1.66666667, 1.33333333,\n",
              "       3.        , 3.        , 3.        , 2.        , 0.33333333,\n",
              "       2.        , 2.        , 2.33333333, 2.        , 2.        ,\n",
              "       1.66666667, 2.33333333, 2.        , 2.66666667, 3.        ,\n",
              "       0.        , 1.33333333, 2.33333333, 0.        , 3.        ,\n",
              "       1.        , 1.33333333, 1.        , 3.        , 1.33333333,\n",
              "       0.        , 0.        , 0.33333333, 0.        , 3.        ,\n",
              "       0.33333333, 2.66666667, 2.66666667, 3.        , 1.        ,\n",
              "       1.        , 1.33333333, 1.        , 2.        , 0.33333333,\n",
              "       2.        , 1.33333333, 1.        , 3.        , 2.66666667,\n",
              "       1.        , 3.        , 1.33333333, 2.33333333, 1.33333333,\n",
              "       3.        , 1.66666667, 0.        , 3.        , 0.        ,\n",
              "       0.33333333, 2.        , 2.        , 0.        , 1.        ,\n",
              "       1.33333333, 1.        , 0.        , 3.        , 0.        ,\n",
              "       1.33333333, 0.        , 2.33333333, 0.        , 2.66666667,\n",
              "       0.        , 2.33333333, 0.        , 1.        , 1.        ,\n",
              "       2.66666667, 2.        , 3.        , 0.        , 3.        ,\n",
              "       1.        , 0.66666667, 0.        , 3.        , 2.        ,\n",
              "       0.66666667, 2.33333333, 0.66666667, 1.        , 3.        ,\n",
              "       3.        , 1.        , 2.        , 1.33333333, 3.        ,\n",
              "       2.33333333, 3.        , 0.        , 2.        , 1.66666667,\n",
              "       3.        , 1.        , 0.66666667, 3.        , 0.        ,\n",
              "       2.        , 1.33333333, 1.33333333, 2.66666667, 0.        ,\n",
              "       3.        , 3.        , 0.        , 1.        , 1.        ,\n",
              "       1.        , 3.        , 0.        , 0.        , 1.        ,\n",
              "       1.33333333, 0.        , 2.33333333, 3.        , 2.33333333,\n",
              "       1.        , 2.        , 0.66666667, 0.        , 3.        ,\n",
              "       1.        , 2.66666667, 2.        , 2.66666667, 1.        ,\n",
              "       0.        , 1.33333333, 1.66666667, 1.66666667, 1.        ,\n",
              "       0.33333333, 1.        , 1.33333333, 2.        , 1.66666667,\n",
              "       1.        , 0.        , 0.        , 3.        , 2.66666667,\n",
              "       0.        , 1.33333333, 0.        , 2.        , 0.66666667,\n",
              "       0.        , 2.        , 1.66666667, 2.33333333, 3.        ,\n",
              "       1.33333333, 1.        , 1.66666667, 0.66666667, 2.        ,\n",
              "       2.        , 1.        , 2.        , 2.33333333, 1.33333333,\n",
              "       1.66666667, 2.        , 3.        , 0.66666667, 2.        ,\n",
              "       1.33333333, 1.        , 3.        , 0.        , 1.        ,\n",
              "       0.        , 1.33333333, 2.66666667, 2.        , 2.66666667,\n",
              "       3.        , 0.        , 3.        , 3.        , 1.        ,\n",
              "       1.        , 3.        , 0.        , 2.66666667, 0.        ,\n",
              "       3.        , 2.33333333, 0.        , 1.33333333, 0.33333333,\n",
              "       0.        , 2.66666667, 0.        , 0.33333333, 1.66666667,\n",
              "       1.33333333, 0.        , 3.        , 0.        , 0.        ,\n",
              "       2.33333333, 2.        , 0.        , 0.        , 0.        ,\n",
              "       3.        , 1.33333333, 2.66666667, 3.        , 1.33333333,\n",
              "       0.        , 1.33333333, 0.        , 3.        , 3.        ,\n",
              "       3.        , 1.        , 0.33333333, 2.        , 1.        ,\n",
              "       0.33333333, 2.33333333, 0.        , 3.        , 2.        ,\n",
              "       2.33333333, 1.        , 0.33333333, 0.33333333, 1.        ,\n",
              "       1.        , 1.33333333, 0.33333333, 3.        , 0.        ,\n",
              "       2.33333333, 1.        , 2.        , 3.        , 0.66666667,\n",
              "       0.        , 3.        , 3.        , 0.66666667, 1.        ,\n",
              "       3.        , 1.        , 1.66666667, 2.66666667, 3.        ,\n",
              "       1.        , 1.        , 0.        , 1.        , 2.        ,\n",
              "       1.33333333, 2.33333333, 0.        , 3.        , 0.        ,\n",
              "       1.33333333, 0.        , 1.33333333, 2.33333333, 2.33333333,\n",
              "       0.33333333, 2.33333333, 1.        , 1.        , 0.        ,\n",
              "       1.        , 0.        , 0.33333333, 1.        , 0.        ,\n",
              "       1.        , 1.        , 1.33333333, 2.33333333, 0.        ,\n",
              "       0.        , 1.33333333, 3.        , 0.        , 1.        ,\n",
              "       0.33333333, 2.66666667, 2.        , 3.        , 0.33333333,\n",
              "       0.        , 2.66666667, 0.66666667, 0.        , 3.        ,\n",
              "       2.33333333, 3.        , 1.33333333, 3.        , 0.        ,\n",
              "       3.        , 0.66666667, 1.        , 0.        , 0.        ,\n",
              "       1.66666667, 3.        , 2.33333333, 2.        , 2.66666667,\n",
              "       2.        , 2.66666667, 1.66666667, 1.66666667, 1.66666667,\n",
              "       0.        , 2.66666667, 1.        , 0.        , 2.        ,\n",
              "       0.66666667, 0.33333333, 0.        , 0.33333333, 2.        ,\n",
              "       3.        , 1.33333333, 2.        , 3.        , 0.66666667,\n",
              "       2.66666667, 1.        , 2.66666667, 2.33333333, 1.        ,\n",
              "       2.33333333, 2.33333333, 2.        , 2.        , 1.        ,\n",
              "       3.        , 3.        , 3.        , 0.        , 0.        ,\n",
              "       1.33333333, 0.        , 2.33333333, 0.        , 1.        ,\n",
              "       1.        , 1.33333333, 1.33333333, 1.66666667, 1.        ,\n",
              "       1.66666667, 3.        , 2.        , 1.        , 1.        ,\n",
              "       2.        , 0.        , 0.33333333, 0.66666667, 3.        ,\n",
              "       0.        , 0.        , 1.        , 1.33333333, 0.        ,\n",
              "       2.        , 3.        , 2.        , 1.66666667, 1.33333333,\n",
              "       1.        , 2.33333333, 1.        , 0.        , 3.        ,\n",
              "       2.66666667, 0.33333333, 0.        , 1.33333333, 2.        ,\n",
              "       3.        , 2.33333333, 2.        , 0.33333333, 0.        ,\n",
              "       1.66666667, 1.        , 0.        , 2.        , 1.        ,\n",
              "       1.66666667, 2.33333333, 3.        , 2.        , 1.        ,\n",
              "       0.        , 1.        , 2.        , 0.66666667, 0.        ,\n",
              "       1.33333333, 1.33333333, 0.        , 2.66666667, 3.        ,\n",
              "       2.66666667, 1.        , 3.        , 0.        , 1.        ,\n",
              "       0.        , 3.        , 3.        , 0.        , 3.        ])"
            ]
          },
          "metadata": {},
          "execution_count": 17
        }
      ],
      "source": [
        "y_pred"
      ]
    },
    {
      "cell_type": "code",
      "execution_count": 18,
      "metadata": {
        "colab": {
          "base_uri": "https://localhost:8080/"
        },
        "id": "tcU2MCEPj_5Z",
        "outputId": "30e44bdc-b4cc-465f-dfe0-9d38eb07ab48"
      },
      "outputs": [
        {
          "output_type": "stream",
          "name": "stdout",
          "text": [
            "0.854697361848976\n",
            "0.1748148148148148\n"
          ]
        }
      ],
      "source": [
        "from sklearn.metrics import r2_score, mean_squared_error\n",
        "r2 = r2_score(y_test,y_pred)\n",
        "mse = mean_squared_error(y_test, y_pred)\n",
        "print(r2)\n",
        "print(mse)\n"
      ]
    },
    {
      "cell_type": "code",
      "execution_count": 19,
      "metadata": {
        "colab": {
          "base_uri": "https://localhost:8080/"
        },
        "id": "ddJ8mj7Rj_5Z",
        "outputId": "60249110-9cf0-4450-c7a2-97140bd42bd9"
      },
      "outputs": [
        {
          "output_type": "execute_result",
          "data": {
            "text/plain": [
              "(0, 3)"
            ]
          },
          "metadata": {},
          "execution_count": 19
        }
      ],
      "source": [
        "min(y_test), max(y_test)"
      ]
    },
    {
      "cell_type": "code",
      "execution_count": 20,
      "metadata": {
        "colab": {
          "base_uri": "https://localhost:8080/"
        },
        "id": "05P4B6DPj_5Z",
        "outputId": "d5c24744-9bd2-4493-f858-9779c65247f2"
      },
      "outputs": [
        {
          "output_type": "stream",
          "name": "stdout",
          "text": [
            "Accuracy is: 0.7922049136611417 for K-Value: 1\n",
            "Accuracy is: 0.8410367589507733 for K-Value: 2\n",
            "Accuracy is: 0.854697361848976 for K-Value: 3\n",
            "Accuracy is: 0.8666648195992326 for K-Value: 4\n",
            "Accuracy is: 0.872219874907358 for K-Value: 5\n",
            "Accuracy is: 0.8772469767738966 for K-Value: 6\n",
            "Accuracy is: 0.8814013078651005 for K-Value: 7\n",
            "Accuracy is: 0.8828122294334814 for K-Value: 8\n",
            "Accuracy is: 0.8813430198338272 for K-Value: 9\n",
            "Accuracy is: 0.8840087828056493 for K-Value: 10\n",
            "Accuracy is: 0.8847681793939058 for K-Value: 11\n",
            "Accuracy is: 0.8854914392272486 for K-Value: 12\n",
            "Accuracy is: 0.885610239453303 for K-Value: 13\n",
            "Accuracy is: 0.885663227493071 for K-Value: 14\n",
            "Accuracy is: 0.8859374290514462 for K-Value: 15\n",
            "Accuracy is: 0.8864107641317975 for K-Value: 16\n",
            "Accuracy is: 0.8865395687741459 for K-Value: 17\n",
            "Accuracy is: 0.8876709360433233 for K-Value: 18\n",
            "Accuracy is: 0.8874644745711291 for K-Value: 19\n",
            "Accuracy is: 0.8872815554154863 for K-Value: 20\n",
            "Accuracy is: 0.8879445756631934 for K-Value: 21\n",
            "Accuracy is: 0.8890013602850239 for K-Value: 22\n",
            "Accuracy is: 0.8891445293648828 for K-Value: 23\n",
            "Accuracy is: 0.8895367093108361 for K-Value: 24\n",
            "Accuracy is: 0.8898519806334979 for K-Value: 25\n",
            "Accuracy is: 0.8901821412049992 for K-Value: 26\n",
            "Accuracy is: 0.8906163625072029 for K-Value: 27\n",
            "Accuracy is: 0.8912786423262758 for K-Value: 28\n",
            "Accuracy is: 0.8918559587522389 for K-Value: 29\n",
            "Accuracy is: 0.8922497820075622 for K-Value: 30\n",
            "Accuracy is: 0.8921786397996005 for K-Value: 31\n",
            "Accuracy is: 0.8918396813289189 for K-Value: 32\n",
            "Accuracy is: 0.8912201945632396 for K-Value: 33\n",
            "Accuracy is: 0.8920328368005433 for K-Value: 34\n",
            "Accuracy is: 0.8920438088584883 for K-Value: 35\n",
            "Accuracy is: 0.8915788518645932 for K-Value: 36\n",
            "Accuracy is: 0.8916237567958214 for K-Value: 37\n",
            "Accuracy is: 0.8919820510326696 for K-Value: 38\n",
            "Accuracy is: 0.8918982836175962 for K-Value: 39\n",
            "Accuracy is: 0.8919707978638666 for K-Value: 40\n",
            "Accuracy is: 0.8918229411321466 for K-Value: 41\n",
            "Accuracy is: 0.8919010066721699 for K-Value: 42\n",
            "Accuracy is: 0.8920274704429846 for K-Value: 43\n",
            "Accuracy is: 0.891863551556909 for K-Value: 44\n",
            "Accuracy is: 0.8918398356520443 for K-Value: 45\n",
            "Accuracy is: 0.8920342820778624 for K-Value: 46\n",
            "Accuracy is: 0.8919935888490039 for K-Value: 47\n",
            "Accuracy is: 0.8925670543199444 for K-Value: 48\n",
            "Accuracy is: 0.8923423552682486 for K-Value: 49\n"
          ]
        }
      ],
      "source": [
        "acc_dict = dict()\n",
        "for K in range(1, 50):\n",
        "\n",
        "    # Create object with K values\n",
        "    model_KNN = KNeighborsRegressor(n_neighbors=K, metric= \"euclidean\")\n",
        "\n",
        "    #Model Fit\n",
        "    model_KNN.fit(X_train, y_train)\n",
        "\n",
        "    #model prediction\n",
        "    y_pred = model_KNN.predict(X_test)\n",
        "    r2 = r2_score(y_test,y_pred)\n",
        "\n",
        "    #Print accuracy score\n",
        "    print(\"Accuracy is: {} for K-Value: {}\".format(r2,K))\n",
        "    acc_dict[K] =r2"
      ]
    },
    {
      "cell_type": "code",
      "execution_count": 21,
      "metadata": {
        "colab": {
          "base_uri": "https://localhost:8080/"
        },
        "id": "MpZ1gGt-j_5Z",
        "outputId": "21be9f7c-67c7-4e31-8675-14d7b81b3d05"
      },
      "outputs": [
        {
          "output_type": "stream",
          "name": "stdout",
          "text": [
            "48 : 0.8925670543199444\n"
          ]
        }
      ],
      "source": [
        "# This will return maximum accuracy with k value\n",
        "for k in acc_dict:\n",
        "    if acc_dict[k] == max(acc_dict.values()):\n",
        "        print(k,\":\", acc_dict[k])"
      ]
    },
    {
      "cell_type": "markdown",
      "source": [
        "Taking K value as 49 because we always take odd value for K"
      ],
      "metadata": {
        "id": "29jL5t9oocXS"
      }
    },
    {
      "cell_type": "code",
      "execution_count": 23,
      "metadata": {
        "colab": {
          "base_uri": "https://localhost:8080/"
        },
        "id": "gOuDLTs-j_5a",
        "outputId": "f7892e3b-3426-4cca-f028-bba31998625a"
      },
      "outputs": [
        {
          "output_type": "stream",
          "name": "stdout",
          "text": [
            "Mean Squared Error (MSE):  0.12952380952380954\n",
            "R-squared (R2) Score:  0.8923423552682486\n"
          ]
        }
      ],
      "source": [
        "from sklearn.neighbors import KNeighborsRegressor\n",
        "from sklearn.metrics import mean_squared_error, r2_score\n",
        "\n",
        "# Create and train the KNN regressor with a specified number of neighbors\n",
        "k = 49\n",
        "regressor = KNeighborsRegressor(n_neighbors=k)\n",
        "regressor.fit(X_train, y_train)\n",
        "\n",
        "# Make predictions on the test set\n",
        "y_pred = regressor.predict(X_test)\n",
        "\n",
        "# Calculate Mean Squared Error (MSE)\n",
        "mse = mean_squared_error(y_test, y_pred)\n",
        "print(\"Mean Squared Error (MSE): \", mse)\n",
        "\n",
        "# Calculate R-squared (R2) score\n",
        "r2 = r2_score(y_test, y_pred)\n",
        "print(\"R-squared (R2) Score: \", r2)\n"
      ]
    },
    {
      "cell_type": "code",
      "source": [],
      "metadata": {
        "id": "96aKpEbioQ1V"
      },
      "execution_count": null,
      "outputs": []
    }
  ],
  "metadata": {
    "kernelspec": {
      "display_name": "Python 3",
      "language": "python",
      "name": "python3"
    },
    "language_info": {
      "codemirror_mode": {
        "name": "ipython",
        "version": 3
      },
      "file_extension": ".py",
      "mimetype": "text/x-python",
      "name": "python",
      "nbconvert_exporter": "python",
      "pygments_lexer": "ipython3",
      "version": "3.7.6"
    },
    "colab": {
      "provenance": []
    }
  },
  "nbformat": 4,
  "nbformat_minor": 0
}